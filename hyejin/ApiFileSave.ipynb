{
 "cells": [
  {
   "cell_type": "code",
   "execution_count": 16,
   "metadata": {},
   "outputs": [],
   "source": [
    "# 라이브러리 import\n",
    "import requests\n",
    "import pprint\n",
    "import json\n",
    "import csv\n",
    "import time\n"
   ]
  },
  {
   "cell_type": "code",
   "execution_count": 17,
   "metadata": {},
   "outputs": [],
   "source": [
    "# url 입력\n",
    "# 전체 데이터 출력을 위한 Page (전체 데이터 반복을 위한 변수, 총 데이터: 169137, 총 페이지수: 1692)\n",
    "page = 1\n",
    "\n",
    "url = f'http://kobis.or.kr/kobisopenapi/webservice/rest/people/searchPeopleList.json?key=df26f775a07ccca06ca84a98126f9a5f&itemPerPage=100&curPage={page}'\n",
    "response = requests.get(url)\n",
    "\n",
    "\n",
    "if response.status_code == 200:\n",
    "    data = response.json()  # JSON 형식으로 응답 데이터를 파싱\n",
    "    movie = data['peopleListResult']['peopleList']\n",
    "\n",
    "# csv 파일 생성하여 제목 부여\n",
    "with open(\"people.csv\", \"w\", newline=\"\", encoding=\"utf-8\") as csvfile:\n",
    "    # CSV 파일을 작성하는 데 필요한 writer 객체 생성\n",
    "    writer = csv.writer(csvfile)\n",
    "    \n",
    "    # KEY값으로 제목 부여\n",
    "    writer.writerow(movie[0].keys())  # 데이터의 첫 번째 행의 키를 헤더로 사용"
   ]
  },
  {
   "cell_type": "code",
   "execution_count": null,
   "metadata": {},
   "outputs": [],
   "source": [
    "# 데이터\n",
    "\n",
    "while page <= 1692:\n",
    "    \n",
    "    url = f'http://kobis.or.kr/kobisopenapi/webservice/rest/people/searchPeopleList.json?key=df26f775a07ccca06ca84a98126f9a5f&itemPerPage=100&curPage={page}'\n",
    "    response = requests.get(url)\n",
    "\n",
    "\n",
    "    if response.status_code == 200:\n",
    "        data = response.json()  # JSON 형식으로 응답 데이터를 파싱\n",
    "        \n",
    "    # 데이터 추가 (values)\n",
    "    f = open(\"people.csv\", \"a\", newline=\"\", encoding=\"utf-8\")\n",
    "    wr = csv.writer(f)\n",
    "\n",
    "\n",
    "    # 100번 반복 돌면서 데이터 추가\n",
    "    for i in range(len(movie)):\n",
    "        wr.writerow(data['peopleListResult']['peopleList'][i].values())\n",
    "    time.sleep(5)\n",
    "    page += 1\n"
   ]
  },
  {
   "cell_type": "code",
   "execution_count": null,
   "metadata": {},
   "outputs": [],
   "source": []
  },
  {
   "cell_type": "code",
   "execution_count": null,
   "metadata": {},
   "outputs": [],
   "source": []
  }
 ],
 "metadata": {
  "kernelspec": {
   "display_name": "Python 3",
   "language": "python",
   "name": "python3"
  },
  "language_info": {
   "codemirror_mode": {
    "name": "ipython",
    "version": 3
   },
   "file_extension": ".py",
   "mimetype": "text/x-python",
   "name": "python",
   "nbconvert_exporter": "python",
   "pygments_lexer": "ipython3",
   "version": "3.12.3"
  }
 },
 "nbformat": 4,
 "nbformat_minor": 2
}
