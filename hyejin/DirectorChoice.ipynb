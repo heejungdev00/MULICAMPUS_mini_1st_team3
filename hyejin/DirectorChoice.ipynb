{
 "cells": [
  {
   "cell_type": "code",
   "execution_count": 1,
   "metadata": {},
   "outputs": [],
   "source": [
    "# 필요한 라이브러리 import\n",
    "import pymysql\n",
    "import pandas as pd\n",
    "import random\n",
    "\n",
    "# 데이터베이스 연결\n",
    "db = pymysql.connect(user='hj', password='1234', host='112.161.7.178', db='movie_db', cursorclass=pymysql.cursors.DictCursor)\n",
    "cursor = db.cursor()\n",
    "\n",
    "# 배우 테이블 조회\n",
    "query = \"SELECT * FROM 감독\"\n",
    "cursor.execute(query)\n",
    "director_data = cursor.fetchall()\n",
    "\n",
    "# 데이터프레임 생성\n",
    "db_movie_df = pd.DataFrame(director_data)"
   ]
  },
  {
   "cell_type": "code",
   "execution_count": 2,
   "metadata": {},
   "outputs": [],
   "source": [
    "# filmoNames에 데이터를 분리, 랜덤 출력\n",
    "def separated_string(string):\n",
    "    choices = string.split(\"|\")\n",
    "    randomMovieName = random.choice(choices)\n",
    "    return randomMovieName"
   ]
  },
  {
   "cell_type": "code",
   "execution_count": 3,
   "metadata": {},
   "outputs": [],
   "source": [
    "# 감독이 한명일 때 실행될 함수\n",
    "def onePeople(director, df):\n",
    "\n",
    "    director_movies = df[df['peopleNm'] == director]['filmoNames'].tolist()\n",
    "    # 검색 감독이 제작한 영화가 없으면 None 리턴\n",
    "    if not director_movies:\n",
    "        return None\n",
    "    else:\n",
    "        # 랜덤으로 추천\n",
    "        recommended_movie = separated_string(random.choice(director_movies))\n",
    "        return recommended_movie"
   ]
  },
  {
   "cell_type": "code",
   "execution_count": 4,
   "metadata": {},
   "outputs": [],
   "source": [
    "# 한명이 아닐 때 실행될 함수\n",
    "def twoPeople(user_input_director, df, movie_name):\n",
    "    \n",
    "    # 새로운 조건으로 데이터 검색\n",
    "    query = \"SELECT * FROM 감독 WHERE peopleNm = %s AND filmoNames LIKE %s\"\n",
    "    cursor.execute(query, (user_input_director, f'%{movie_name}%'))\n",
    "    twoPeopleDirectorData = cursor.fetchall()\n",
    "\n",
    "    # 새로운 데이터프레임 생성\n",
    "    df = pd.DataFrame(twoPeopleDirectorData)\n",
    "    director_movies = df[df['peopleNm'] == user_input_director]['filmoNames'].tolist()\n",
    "    \n",
    "    if not director_movies:\n",
    "        return None\n",
    "    else:\n",
    "        recommended_movie = separated_string(random.choice(director_movies))\n",
    "        return recommended_movie"
   ]
  },
  {
   "cell_type": "code",
   "execution_count": 5,
   "metadata": {},
   "outputs": [],
   "source": [
    "# 사용자 입력 받기\n",
    "user_input_director = input(\"감독의 이름을 입력하세요: \").strip()"
   ]
  },
  {
   "cell_type": "code",
   "execution_count": 6,
   "metadata": {},
   "outputs": [
    {
     "name": "stdout",
     "output_type": "stream",
     "text": [
      "추천 영화: 해무(海霧)\n"
     ]
    }
   ],
   "source": [
    "# 검색 결과 출력\n",
    "search_result = db_movie_df[db_movie_df['peopleNm'] == user_input_director]\n",
    "\n",
    "if not search_result.empty:\n",
    "\n",
    "    # 입력받은 감독이 한명일 때\n",
    "    if len(search_result) == 1:\n",
    "        recommended_movie = onePeople(user_input_director, db_movie_df)\n",
    "    \n",
    "        # 결과 출력\n",
    "        if recommended_movie:\n",
    "            print(\"추천 영화:\", recommended_movie)\n",
    "        else:\n",
    "            print(f\"이름이 {user_input_director}인 감독이 제작한 영화가 없습니다.\")\n",
    "\n",
    "    # 입력받은 감독이 한명이 아닐 때 해당 감독 제작 영화명 입력받기\n",
    "    else:\n",
    "        movie_name = input(\"영화명을 입력하세요: \").strip()\n",
    "        recommended_movie = twoPeople(user_input_director, db_movie_df, movie_name)\n",
    "\n",
    "        # 결과 출력\n",
    "        if recommended_movie:\n",
    "            print(\"추천 영화:\", recommended_movie)\n",
    "        else:\n",
    "            print(f\"이름이 {user_input_director}인 감독이 제작한 영화가 없습니다.\")\n",
    "else:\n",
    "    print(f\"'{user_input_director}'으로 검색된 감독이 없습니다.\")"
   ]
  },
  {
   "cell_type": "code",
   "execution_count": null,
   "metadata": {},
   "outputs": [],
   "source": []
  }
 ],
 "metadata": {
  "kernelspec": {
   "display_name": "Python 3",
   "language": "python",
   "name": "python3"
  },
  "language_info": {
   "codemirror_mode": {
    "name": "ipython",
    "version": 3
   },
   "file_extension": ".py",
   "mimetype": "text/x-python",
   "name": "python",
   "nbconvert_exporter": "python",
   "pygments_lexer": "ipython3",
   "version": "3.12.3"
  }
 },
 "nbformat": 4,
 "nbformat_minor": 2
}
