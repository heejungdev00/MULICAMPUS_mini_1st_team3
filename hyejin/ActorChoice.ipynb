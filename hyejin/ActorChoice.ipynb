{
 "cells": [
  {
   "cell_type": "code",
   "execution_count": 1,
   "metadata": {},
   "outputs": [],
   "source": [
    "# 필요한 라이브러리 import\n",
    "import pymysql\n",
    "import pandas as pd\n",
    "import random\n",
    "\n",
    "# 데이터베이스 연결\n",
    "db = pymysql.connect(user='hj', password='1234', host='112.161.7.178', db='movie_db', cursorclass=pymysql.cursors.DictCursor)\n",
    "cursor = db.cursor()\n",
    "\n",
    "# 배우 테이블 조회\n",
    "query = \"SELECT * FROM 배우\"\n",
    "cursor.execute(query)\n",
    "actors_data = cursor.fetchall()\n",
    "\n",
    "# 데이터프레임 생성\n",
    "db_movie_df = pd.DataFrame(actors_data)"
   ]
  },
  {
   "cell_type": "code",
   "execution_count": 2,
   "metadata": {},
   "outputs": [],
   "source": [
    "# filmoNames에 데이터를 분리, 랜덤 출력\n",
    "def separated_string(string):\n",
    "    choices = string.split(\"|\")\n",
    "    randomMovieName = random.choice(choices)\n",
    "    return randomMovieName"
   ]
  },
  {
   "cell_type": "code",
   "execution_count": 3,
   "metadata": {},
   "outputs": [],
   "source": [
    "# 배우가 한명일 때 실행될 함수\n",
    "def onePeople(actor, df):\n",
    "\n",
    "    actor_movies = df[df['peopleNm'] == actor]['filmoNames'].tolist()\n",
    "    # 검색 배우의 출연작이 없으면 None 리턴\n",
    "    if not actor_movies:\n",
    "        return None\n",
    "    else:\n",
    "        # 랜덤으로 추천\n",
    "        recommended_movie = separated_string(random.choice(actor_movies))\n",
    "        return recommended_movie"
   ]
  },
  {
   "cell_type": "code",
   "execution_count": 4,
   "metadata": {},
   "outputs": [],
   "source": [
    "# 한명이 아닐 때 실행될 함수\n",
    "def twoPeople(user_input_actor, df, movie_name):\n",
    "    \n",
    "    # 새로운 조건으로 데이터 검색\n",
    "    query = \"SELECT * FROM 배우 WHERE peopleNm = %s AND filmoNames LIKE %s\"\n",
    "    cursor.execute(query, (user_input_actor, f'%{movie_name}%'))\n",
    "    twoPeopleActorsData = cursor.fetchall()\n",
    "\n",
    "    # 새로운 데이터프레임 생성\n",
    "    df = pd.DataFrame(twoPeopleActorsData)\n",
    "    actor_movies = df[df['peopleNm'] == user_input_actor]['filmoNames'].tolist()\n",
    "    \n",
    "    if not actor_movies:\n",
    "        return None\n",
    "    else:\n",
    "        recommended_movie = separated_string(random.choice(actor_movies))\n",
    "        return recommended_movie"
   ]
  },
  {
   "cell_type": "code",
   "execution_count": 5,
   "metadata": {},
   "outputs": [],
   "source": [
    "# 검색 결과 출력\n",
    "def ActorPrint(user_input_actor):\n",
    "    search_result = db_movie_df[db_movie_df['peopleNm'] == user_input_actor]\n",
    "\n",
    "    if not search_result.empty:\n",
    "\n",
    "        # 입력받은 배우가 한명일 때\n",
    "        if len(search_result) == 1:\n",
    "            recommended_movie = onePeople(user_input_actor, db_movie_df)\n",
    "        \n",
    "            # 결과 출력\n",
    "            if recommended_movie:\n",
    "                print(\"추천 영화:\", recommended_movie)\n",
    "            else:\n",
    "                print(f\"이름이 {user_input_actor}인 배우가 출연한 영화가 없습니다.\")\n",
    "\n",
    "        # 입력받은 배우가 한명이 아닐 때 해당 배우 출연 영화명 입력받기\n",
    "        else:\n",
    "            movie_name = input(\"영화명을 입력하세요: \").strip()\n",
    "            recommended_movie = twoPeople(user_input_actor, db_movie_df, movie_name)\n",
    "\n",
    "            # 결과 출력\n",
    "            if recommended_movie:\n",
    "                print(\"추천 영화:\", recommended_movie)\n",
    "            else:\n",
    "                print(f\"이름이 {user_input_actor}인 배우가 출연한 영화가 없습니다.\")\n",
    "    else:\n",
    "        print(f\"입력한 이름 '{user_input_actor}'으로 검색된 배우가 없습니다.\")"
   ]
  },
  {
   "cell_type": "code",
   "execution_count": 6,
   "metadata": {},
   "outputs": [
    {
     "name": "stdout",
     "output_type": "stream",
     "text": [
      "추천 영화: 좋아해줘\n"
     ]
    }
   ],
   "source": [
    "# 사용자 입력 받기\n",
    "user_input_actor = ActorPrint(input(\"배우의 이름을 입력하세요: \").strip())"
   ]
  },
  {
   "cell_type": "code",
   "execution_count": 73,
   "metadata": {},
   "outputs": [
    {
     "name": "stdout",
     "output_type": "stream",
     "text": [
      "추천 영화: 나의 특별한 형제\n"
     ]
    }
   ],
   "source": []
  }
 ],
 "metadata": {
  "kernelspec": {
   "display_name": "Python 3",
   "language": "python",
   "name": "python3"
  },
  "language_info": {
   "codemirror_mode": {
    "name": "ipython",
    "version": 3
   },
   "file_extension": ".py",
   "mimetype": "text/x-python",
   "name": "python",
   "nbconvert_exporter": "python",
   "pygments_lexer": "ipython3",
   "version": "3.12.3"
  }
 },
 "nbformat": 4,
 "nbformat_minor": 2
}
