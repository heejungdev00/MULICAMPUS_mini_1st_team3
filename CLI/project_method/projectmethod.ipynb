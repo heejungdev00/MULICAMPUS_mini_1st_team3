{
 "cells": [
  {
   "cell_type": "code",
   "execution_count": null,
   "id": "2abd43dd-6062-4766-bfdd-f2ef372d80a0",
   "metadata": {},
   "outputs": [],
   "source": [
    "#크롤링한 문서에서 댓글만 남기기\n",
    "import re\n",
    "\n",
    "def extract_korean_and_whitespace(comments):\n",
    "    # comments 리스트에서 각 댓글에 대해 정규 표현식을 적용하여 한글과 공백만 추출\n",
    "    check_comment = [''.join(re.findall('[ㄱ-ㅣ가-힣\\s]', comment[0])) for comment in comments]\n",
    "    return check_comment"
   ]
  },
  {
   "cell_type": "code",
   "execution_count": null,
   "id": "768970d4-40cf-4cd9-88c9-44d0b7f53ec1",
   "metadata": {},
   "outputs": [],
   "source": [
    "#konlpy 중에서 Komoran으로 키워드 분석\n",
    "from konlpy.tag import Komoran\n",
    "\n",
    "def analyze_keywords_with_komoran(check_comment):\n",
    "    komoran = Komoran()\n",
    "    tokens = [komoran.pos(word, flatten=True, join=False) for word in check_comment]\n",
    "    return tokens"
   ]
  },
  {
   "cell_type": "code",
   "execution_count": null,
   "id": "13ba75c5-e875-493b-8b3a-ff81c26c2b64",
   "metadata": {},
   "outputs": [],
   "source": [
    "# 토큰화 된 단어들중 감성사전에 매치할 동사, 부사, 명사만 남김\n",
    "def filter_tokens_by_pos(tokens):\n",
    "    result = []\n",
    "    for sentence in tokens:\n",
    "        filtered_tokens = []\n",
    "        for token in sentence:\n",
    "            if isinstance(token, tuple) and len(token) == 2:\n",
    "                pos_tag = token[1]\n",
    "                if pos_tag in ['VV', 'MAG', 'NA','NNP','NNG]:\n",
    "                    filtered_tokens.append(token)\n",
    "        result.append(filtered_tokens)\n",
    "    return result"
   ]
  },
  {
   "cell_type": "code",
   "execution_count": null,
   "id": "8e4c7853-b70a-4f76-9dd8-ec8670497db2",
   "metadata": {},
   "outputs": [],
   "source": [
    "#토큰화 된 단어의 빈도수\n",
    "def count\n",
    "    counter = Counter(j for i in filtered_tokens = [] for j in i)\n"
   ]
  }
 ],
 "metadata": {
  "kernelspec": {
   "display_name": "Python 3 (ipykernel)",
   "language": "python",
   "name": "python3"
  },
  "language_info": {
   "codemirror_mode": {
    "name": "ipython",
    "version": 3
   },
   "file_extension": ".py",
   "mimetype": "text/x-python",
   "name": "python",
   "nbconvert_exporter": "python",
   "pygments_lexer": "ipython3",
   "version": "3.11.7"
  }
 },
 "nbformat": 4,
 "nbformat_minor": 5
}
